{
 "cells": [
  {
   "cell_type": "markdown",
   "metadata": {},
   "source": [
    "### The structure of the DQN:\n",
    "A two hidden layers neural network with 256 and 128 nodes respectively，relu activatin function is applied to all layers except the last layer\n",
    "### Training Algorithm:\n",
    "According to this [paper](https://www.nature.com/articles/nature14236), two techniques are used:\n",
    "1. Experience Replay: A pool of 10,000 (\"state\",\"action\",\"reward\",\"next_state\",\"done\") is used. Each time 64 random samples are selected from the pool for training\n",
    "2. Fixed Q-target: two same structure networks are used. A local network is updated every 4 step. A target network is updated by using only 1/1000 of the local network every time \n",
    "\n",
    "For each state, the DQN calculates the action values and we minimize the following equation : <br/>\n",
    "$U(D)[(r+\\gamma max_{a'}Q'(s',a';w^{-})-Q(s,a;w))^2] $ <br/>\n",
    "$U(D)$ stands for the the minibatch we random sample from the experience pool and can break the correlation between the continuously  Q value and the action. For each step, we update $w$ every 4 step and $w^{-}$ is only updated 1/1000 of the $w$ each time. Since updating a guess with a guess can lead to harmful correlation <br/>\n",
    "This algorithm works, we can see the improvement of the rewards.\n",
    "### Training hyperparameters:\n",
    "episodes used for training is 1500, learning rate is 0.0005, minimum epsilon is about 0.01 and the decay rate is 0.995. The number of episodes used to solve the problem is about 1000\n",
    "### Future ideas:\n",
    "1. Try different architectures of DQN\n",
    "2. Try Prioritized Experience Replay\n",
    "2. Try Dueling DQN"
   ]
  },
  {
   "cell_type": "code",
   "execution_count": 4,
   "metadata": {},
   "outputs": [],
   "source": [
    "from unityagents import UnityEnvironment\n",
    "import numpy as np"
   ]
  },
  {
   "cell_type": "code",
   "execution_count": 5,
   "metadata": {},
   "outputs": [
    {
     "name": "stderr",
     "output_type": "stream",
     "text": [
      "INFO:unityagents:\n",
      "'Academy' started successfully!\n",
      "Unity Academy name: Academy\n",
      "        Number of Brains: 1\n",
      "        Number of External Brains : 1\n",
      "        Lesson number : 0\n",
      "        Reset Parameters :\n",
      "\t\t\n",
      "Unity brain name: BananaBrain\n",
      "        Number of Visual Observations (per agent): 0\n",
      "        Vector Observation space type: continuous\n",
      "        Vector Observation space size (per agent): 37\n",
      "        Number of stacked Vector Observation: 1\n",
      "        Vector Action space type: discrete\n",
      "        Vector Action space size (per agent): 4\n",
      "        Vector Action descriptions: , , , \n"
     ]
    }
   ],
   "source": [
    "env = UnityEnvironment(file_name=\"Banana_Windows_x86_64/Banana.exe\")"
   ]
  },
  {
   "cell_type": "code",
   "execution_count": 6,
   "metadata": {},
   "outputs": [],
   "source": [
    "# get the default brain\n",
    "brain_name = env.brain_names[0]\n",
    "brain = env.brains[brain_name]"
   ]
  },
  {
   "cell_type": "code",
   "execution_count": 7,
   "metadata": {},
   "outputs": [
    {
     "name": "stdout",
     "output_type": "stream",
     "text": [
      "Number of agents: 1\n",
      "Number of actions: 4\n",
      "States look like: [1.         0.         0.         0.         0.84408134 0.\n",
      " 0.         1.         0.         0.0748472  0.         1.\n",
      " 0.         0.         0.25755    1.         0.         0.\n",
      " 0.         0.74177343 0.         1.         0.         0.\n",
      " 0.25854847 0.         0.         1.         0.         0.09355672\n",
      " 0.         1.         0.         0.         0.31969345 0.\n",
      " 0.        ]\n",
      "States have length: 37\n"
     ]
    }
   ],
   "source": [
    "# reset the environment\n",
    "env_info = env.reset(train_mode=True)[brain_name]\n",
    "\n",
    "# number of agents in the environment\n",
    "print('Number of agents:', len(env_info.agents))\n",
    "\n",
    "# number of actions\n",
    "action_size = brain.vector_action_space_size\n",
    "print('Number of actions:', action_size)\n",
    "\n",
    "# examine the state space \n",
    "state = env_info.vector_observations[0]\n",
    "print('States look like:', state)\n",
    "state_size = len(state)\n",
    "print('States have length:', state_size)"
   ]
  },
  {
   "cell_type": "code",
   "execution_count": 8,
   "metadata": {},
   "outputs": [],
   "source": [
    "import torch\n",
    "from Agent import Agent\n",
    "from collections import namedtuple,deque"
   ]
  },
  {
   "cell_type": "code",
   "execution_count": 9,
   "metadata": {},
   "outputs": [],
   "source": [
    "#training\n",
    "def train_network(agent,n_episodes=1500,max_t=10000,eps_start=1,eps_end=0.01,eps_decay=0.995):\n",
    "    \"\"\"\n",
    "    n_episodes: maximum number of training episodes\n",
    "    max_t: maximum number of timesteps per episode\n",
    "    eps_start: start of epsilon\n",
    "    eps_end: minimum value of epsilon\n",
    "    eps_decay: decay factor for epsilon\n",
    "    \"\"\"\n",
    "    scores = []\n",
    "    scores_window = deque(maxlen=100) # last 100 scores\n",
    "    eps = eps_start\n",
    "    \n",
    "    for i_episode in range(1,n_episodes+1):\n",
    "        env_info = env.reset(train_mode=True)[brain_name]\n",
    "        state = env_info.vector_observations[0]\n",
    "        score = 0\n",
    "        for t in range(max_t):\n",
    "            action = agent.act(state,eps)\n",
    "            env_info = env.step(action.astype(int))[brain_name]\n",
    "            next_state = env_info.vector_observations[0]\n",
    "            reward = env_info.rewards[0]\n",
    "            done = env_info.local_done[0]\n",
    "            agent.step(state,action,reward,next_state,done)\n",
    "            state = next_state\n",
    "            score+=reward\n",
    "            if done:\n",
    "                break\n",
    "        scores_window.append(score)\n",
    "        scores.append(score)\n",
    "        eps = max(eps_end,eps_decay*eps)\n",
    "        \n",
    "        if i_episode % 100 ==0:\n",
    "            print('\\rEpisode {}\\tAverage Score: {:.2f}'.format(i_episode,np.mean(scores_window)))\n",
    "            torch.save(agent.qnetwork_local.state_dict(),'checkpoint.pth')\n",
    "            \n",
    "    return scores"
   ]
  },
  {
   "cell_type": "code",
   "execution_count": 10,
   "metadata": {},
   "outputs": [],
   "source": [
    "device = torch.device(\"cuda:0\" if torch.cuda.is_available() else \"cpu\")\n",
    "agent = Agent(action_size=action_size,state_size=state_size,device=device)"
   ]
  },
  {
   "cell_type": "code",
   "execution_count": 11,
   "metadata": {},
   "outputs": [
    {
     "name": "stdout",
     "output_type": "stream",
     "text": [
      "Episode 100\tAverage Score: 0.98\n",
      "Episode 200\tAverage Score: 4.68\n",
      "Episode 300\tAverage Score: 8.15\n",
      "Episode 400\tAverage Score: 10.32\n",
      "Episode 500\tAverage Score: 12.75\n",
      "Episode 600\tAverage Score: 14.15\n",
      "Episode 700\tAverage Score: 14.48\n",
      "Episode 800\tAverage Score: 14.77\n",
      "Episode 900\tAverage Score: 15.05\n",
      "Episode 1000\tAverage Score: 14.81\n",
      "Episode 1100\tAverage Score: 15.65\n",
      "Episode 1200\tAverage Score: 15.60\n",
      "Episode 1300\tAverage Score: 15.51\n",
      "Episode 1400\tAverage Score: 14.75\n",
      "Episode 1500\tAverage Score: 15.12\n"
     ]
    }
   ],
   "source": [
    "scores = train_network(agent)"
   ]
  },
  {
   "cell_type": "code",
   "execution_count": 12,
   "metadata": {},
   "outputs": [],
   "source": [
    "env.close()"
   ]
  },
  {
   "cell_type": "code",
   "execution_count": 13,
   "metadata": {},
   "outputs": [],
   "source": [
    "%matplotlib inline\n",
    "import matplotlib.pyplot as plt"
   ]
  },
  {
   "cell_type": "code",
   "execution_count": 14,
   "metadata": {},
   "outputs": [
    {
     "data": {
      "text/plain": [
       "Text(0.5, 0, 'Episode #')"
      ]
     },
     "execution_count": 14,
     "metadata": {},
     "output_type": "execute_result"
    },
    {
     "data": {
      "image/png": "[encoded data removed]",
      "text/plain": [
       "<Figure size 432x288 with 1 Axes>"
      ]
     },
     "metadata": {
      "needs_background": "light"
     },
     "output_type": "display_data"
    }
   ],
   "source": [
    "fig = plt.figure()\n",
    "ax = fig.add_subplot(111)\n",
    "plt.plot(np.arange(len(scores)),scores)\n",
    "plt.ylabel('Score') \n",
    "plt.xlabel('Episode #')"
   ]
  },
  {
   "cell_type": "code",
   "execution_count": null,
   "metadata": {},
   "outputs": [],
   "source": []
  }
 ],
 "metadata": {
  "kernelspec": {
   "display_name": "cnn_env",
   "language": "python",
   "name": "cnn_env"
  },
  "language_info": {
   "codemirror_mode": {
    "name": "ipython",
    "version": 3
   },
   "file_extension": ".py",
   "mimetype": "text/x-python",
   "name": "python",
   "nbconvert_exporter": "python",
   "pygments_lexer": "ipython3",
   "version": "3.6.9"
  }
 },
 "nbformat": 4,
 "nbformat_minor": 4
}
